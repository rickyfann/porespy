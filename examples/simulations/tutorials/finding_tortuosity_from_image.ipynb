{
 "cells": [
  {
   "cell_type": "markdown",
   "id": "01169d17",
   "metadata": {},
   "source": [
    "#  Finding the Tortuosity ($\\tau$) of an Image Using tortuosity_fd"
   ]
  },
  {
   "cell_type": "markdown",
   "id": "57d34ae1",
   "metadata": {},
   "source": [
    "In this tutorial, we will walk through how to use tortuosity_fd to calculate the tortuosity of an image using a finite difference method. The function takes a binary image to analyze with \"True\" to indicate the phase of interest as well as the axis along which to find the tortuosity."
   ]
  },
  {
   "cell_type": "markdown",
   "id": "28b866b1",
   "metadata": {},
   "source": [
    "## Algortihm Description\n"
   ]
  },
  {
   "cell_type": "markdown",
   "id": "6d938e7e",
   "metadata": {},
   "source": [
    "1. ``tortuoisty_fd`` starts by calculating the porosity of the image. \n",
    "<br><br>\n",
    "$$ \\epsilon_{orginal} = \\frac{\\sum_{i = 0}^{N_{x}}\\sum_{j = 0}^{N_{y}}im_{ij}}{N_{x}\\cdot N_{y}} $$\n",
    "<br><br>\n",
    "2. The second step is to remove non-percolating paths between the inlet and the outlet. This is done by using ``trim_nonpercolating_paths``. The description of this filter can be found [here.](https://porespy.org/examples/filters/reference/trim_nonpercolating_paths.html?highlight=trim_nonpercolating_paths)\n",
    "<br><br>\n",
    "3. The new porosity is calculated after trimming the non-percolating pores using the same equation as step 1.\n",
    "<br><br>\n",
    "$$ \\epsilon_{eff} = \\frac{\\sum_{i = 0}^{N_{x}}\\sum_{j = 0}^{N_{y}}im_{ij}}{N_{x}\\cdot N_{y}} $$\n",
    "<br><br>\n",
    "4. A cubic network is generated using openpnm and is used as an orthogonal grid.\n",
    "<br><br>\n",
    "5. A dummy phase is created, and openpnm's Fickian diffusion algorithm (``op.algorithms.FickianDiffusion``) is applied.\n",
    "<br><br>\n",
    "6. The inlet concentration and throat diffusive conductance are set to 1.0, and the outlet concentration is set to 0.\n",
    "<br><br>\n",
    "7. Using the rate calculated from the Fickian diffusion algorithm, the effective diffusion coefficient is then calculated from the formula: <br><br>\n",
    "$$ D_{Eff} = \\frac{\\dot{\\vec{N}} \\cdot (L-1)}{A \\cdot \\Delta C} $$\n",
    "<br><br>\n",
    "8. The subsequent tortuosity is finally calculated using: <br><br>\n",
    "$$\\tau = \\frac{D_{AB}}{D_{Eff}} \\cdot \\varepsilon_{Eff} $$\n",
    " <br><br>\n",
    "9. All useful results are then compiled into a Results object. "
   ]
  },
  {
   "cell_type": "markdown",
   "id": "fad8564f",
   "metadata": {},
   "source": [
    " ### Importing Packages"
   ]
  },
  {
   "cell_type": "code",
   "execution_count": 1,
   "id": "ef9bf2d7",
   "metadata": {
    "execution": {
     "iopub.execute_input": "2022-04-25T01:55:20.834451Z",
     "iopub.status.busy": "2022-04-25T01:55:20.834132Z",
     "iopub.status.idle": "2022-04-25T01:55:23.089210Z",
     "shell.execute_reply": "2022-04-25T01:55:23.088527Z"
    }
   },
   "outputs": [],
   "source": [
    "import matplotlib.pyplot as plt\n",
    "import porespy as ps\n",
    "import numpy as np"
   ]
  },
  {
   "cell_type": "markdown",
   "id": "75bb23e7",
   "metadata": {},
   "source": [
    "### Generating the image:"
   ]
  },
  {
   "cell_type": "markdown",
   "id": "e0b6f5a8",
   "metadata": {},
   "source": [
    "For the purposes of this tutorial, we will generate a 1000 x 1000 pixel image with a target porosity of 0.5."
   ]
  },
  {
   "cell_type": "code",
   "execution_count": 2,
   "id": "00b5dd2c",
   "metadata": {
    "execution": {
     "iopub.execute_input": "2022-04-25T01:55:23.092892Z",
     "iopub.status.busy": "2022-04-25T01:55:23.092655Z",
     "iopub.status.idle": "2022-04-25T01:55:23.158862Z",
     "shell.execute_reply": "2022-04-25T01:55:23.158350Z"
    }
   },
   "outputs": [
    {
     "data": {
      "image/png": "[encoded data removed]",
      "text/plain": [
       "<Figure size 432x288 with 1 Axes>"
      ]
     },
     "metadata": {
      "needs_background": "light"
     },
     "output_type": "display_data"
    }
   ],
   "source": [
    "np.random.seed(2)\n",
    "im = ps.generators.overlapping_spheres([200, 200], r=10, porosity=0.65)\n",
    "fig, ax = plt.subplots()\n",
    "ax.imshow(im, origin='lower', interpolation='none')\n",
    "ax.axis(False);"
   ]
  },
  {
   "cell_type": "markdown",
   "id": "dfed0b5a",
   "metadata": {},
   "source": [
    "### Running the algorithm"
   ]
  },
  {
   "cell_type": "markdown",
   "id": "e79a24ab",
   "metadata": {},
   "source": [
    "As mentioned at the start of the tutorial, the only two inputs for the function are the image and the axis along which to run the calculation. For the x-axis we assign axis a value of 1 and for the y-axis we assign axis a value of 0. "
   ]
  },
  {
   "cell_type": "code",
   "execution_count": 3,
   "id": "13d39345",
   "metadata": {
    "execution": {
     "iopub.execute_input": "2022-04-25T01:55:23.162207Z",
     "iopub.status.busy": "2022-04-25T01:55:23.161965Z",
     "iopub.status.idle": "2022-04-25T01:55:23.631378Z",
     "shell.execute_reply": "2022-04-25T01:55:23.630864Z"
    }
   },
   "outputs": [
    {
     "name": "stdout",
     "output_type": "stream",
     "text": [
      "――――――――――――――――――――――――――――――――――――――――――――――――――――――――――――――――――――――――――――――\n",
      "Item                      Description\n",
      "――――――――――――――――――――――――――――――――――――――――――――――――――――――――――――――――――――――――――――――\n",
      "tortuosity                1.8776402699255308\n",
      "formation_factor          2.9044282763069424\n",
      "original_porosity         0.646575\n",
      "effective_porosity        0.646475\n",
      "concentration             Image of size (200, 200)\n",
      "――――――――――――――――――――――――――――――――――――――――――――――――――――――――――――――――――――――――――――――\n"
     ]
    }
   ],
   "source": [
    "results = ps.simulations.tortuosity_fd(im=im, axis=1)\n",
    "print(results)"
   ]
  },
  {
   "cell_type": "markdown",
   "id": "c5145cbb",
   "metadata": {},
   "source": [
    "The function outputs an object with several attributes: \n",
    "\n",
    "| Attribute | Description |\n",
    "| --------- | ----------- |\n",
    "| ``tortuosity`` | The **calculated tortuosity** is given by the equation:<br> <br>$$\\tau = \\frac{D_{AB}}{D_{Eff}} \\cdot \\varepsilon $$<br><br> where $\\varepsilon$ is the ``effective_porosity``|\n",
    "| ``effective_porosity`` | The effective porosity of the image after removing disconnected voxels |\n",
    "| ``original_porosity`` | The porosity of the image as inputted|\n",
    "| ``formation_factor`` | The formation factor is given by the equation: <br><br>$$\\mathscr{F}=\\frac{D_{AB}}{D_{Eff}}$$|\n",
    "| ``concentration`` | Returns an image containing the concentration values from the simulation|"
   ]
  },
  {
   "cell_type": "markdown",
   "id": "50be8df9",
   "metadata": {},
   "source": [
    "### Calling Values From The Output"
   ]
  },
  {
   "cell_type": "markdown",
   "id": "2a37b591",
   "metadata": {},
   "source": [
    "There are a couple ways to call the values from the returned object. The easiest way to call the values is to use object.attribute"
   ]
  },
  {
   "cell_type": "code",
   "execution_count": 4,
   "id": "0cd027c6",
   "metadata": {
    "execution": {
     "iopub.execute_input": "2022-04-25T01:55:23.634046Z",
     "iopub.status.busy": "2022-04-25T01:55:23.633740Z",
     "iopub.status.idle": "2022-04-25T01:55:23.864466Z",
     "shell.execute_reply": "2022-04-25T01:55:23.863930Z"
    },
    "scrolled": true
   },
   "outputs": [
    {
     "data": {
      "text/plain": [
       "2.9044282763069424"
      ]
     },
     "execution_count": 4,
     "metadata": {},
     "output_type": "execute_result"
    },
    {
     "data": {
      "image/png": "[encoded data removed]",
      "text/plain": [
       "<Figure size 432x288 with 2 Axes>"
      ]
     },
     "metadata": {
      "needs_background": "light"
     },
     "output_type": "display_data"
    }
   ],
   "source": [
    "plt.imshow(results.concentration,origin='lower', interpolation='none', cmap=plt.cm.plasma);\n",
    "plt.colorbar()\n",
    "results.formation_factor"
   ]
  }
 ],
 "metadata": {
  "kernelspec": {
   "display_name": "Python 3 (ipykernel)",
   "language": "python",
   "name": "python3"
  },
  "language_info": {
   "codemirror_mode": {
    "name": "ipython",
    "version": 3
   },
   "file_extension": ".py",
   "mimetype": "text/x-python",
   "name": "python",
   "nbconvert_exporter": "python",
   "pygments_lexer": "ipython3",
   "version": "3.9.12"
  }
 },
 "nbformat": 4,
 "nbformat_minor": 5
}
